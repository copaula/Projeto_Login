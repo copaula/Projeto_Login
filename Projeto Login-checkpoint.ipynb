{
 "cells": [
  {
   "cell_type": "code",
   "execution_count": 1,
   "id": "f241935e",
   "metadata": {},
   "outputs": [
    {
     "ename": "ModuleNotFoundError",
     "evalue": "No module named 'pysimpleGUI'",
     "output_type": "error",
     "traceback": [
      "\u001b[1;31m---------------------------------------------------------------------------\u001b[0m",
      "\u001b[1;31mModuleNotFoundError\u001b[0m                       Traceback (most recent call last)",
      "Input \u001b[1;32mIn [1]\u001b[0m, in \u001b[0;36m<cell line: 1>\u001b[1;34m()\u001b[0m\n\u001b[1;32m----> 1\u001b[0m \u001b[38;5;28;01mimport\u001b[39;00m \u001b[38;5;21;01mpysimpleGUI\u001b[39;00m \u001b[38;5;28;01mas\u001b[39;00m \u001b[38;5;21;01msg\u001b[39;00m\n",
      "\u001b[1;31mModuleNotFoundError\u001b[0m: No module named 'pysimpleGUI'"
     ]
    }
   ],
   "source": [
    "import pysimpleGUI as sg"
   ]
  },
  {
   "cell_type": "code",
   "execution_count": 2,
   "id": "3c90854c",
   "metadata": {},
   "outputs": [],
   "source": [
    "import  PySimpleGUI as sg"
   ]
  },
  {
   "cell_type": "code",
   "execution_count": null,
   "id": "9a1784aa",
   "metadata": {},
   "outputs": [],
   "source": [
    "# Parte 1 - Import"
   ]
  },
  {
   "cell_type": "code",
   "execution_count": null,
   "id": "eba0f029",
   "metadata": {},
   "outputs": [],
   "source": [
    "# Parte 2 - Layout\n",
    "layout = [[sg.Text(\"Qual é o seu nome?\")],\n",
    "          [sg.Imput()],\n",
    "          [sg.Button('OK')]]\n",
    "          "
   ]
  },
  {
   "cell_type": "code",
   "execution_count": null,
   "id": "48373035",
   "metadata": {},
   "outputs": [],
   "source": [
    "# create the window\n",
    "# window Definition\n",
    "\n",
    "window = sg.Window(\"Cadastro Nomes\",layout)"
   ]
  },
  {
   "cell_type": "code",
   "execution_count": null,
   "id": "7df1fabe",
   "metadata": {},
   "outputs": [],
   "source": [
    "#parte 4 Event Loop or window.read call\n",
    "event,values = window.read()"
   ]
  },
  {
   "cell_type": "code",
   "execution_count": null,
   "id": "1012fb69",
   "metadata": {},
   "outputs": [],
   "source": [
    "#Faça alguma coisa com a informação\n",
    "\n",
    "print('Hello,',values(0),\"Obrigado\")"
   ]
  },
  {
   "cell_type": "code",
   "execution_count": 3,
   "id": "d7604438",
   "metadata": {},
   "outputs": [
    {
     "ename": "NameError",
     "evalue": "name 'window' is not defined",
     "output_type": "error",
     "traceback": [
      "\u001b[1;31m---------------------------------------------------------------------------\u001b[0m",
      "\u001b[1;31mNameError\u001b[0m                                 Traceback (most recent call last)",
      "Input \u001b[1;32mIn [3]\u001b[0m, in \u001b[0;36m<cell line: 2>\u001b[1;34m()\u001b[0m\n\u001b[0;32m      1\u001b[0m \u001b[38;5;66;03m#Close the window\u001b[39;00m\n\u001b[1;32m----> 2\u001b[0m \u001b[43mwindow\u001b[49m\u001b[38;5;241m.\u001b[39mclose()\n",
      "\u001b[1;31mNameError\u001b[0m: name 'window' is not defined"
     ]
    }
   ],
   "source": [
    "#Close the window\n",
    "\n",
    "window.close()"
   ]
  },
  {
   "cell_type": "code",
   "execution_count": null,
   "id": "96a4869b",
   "metadata": {},
   "outputs": [],
   "source": []
  }
 ],
 "metadata": {
  "kernelspec": {
   "display_name": "Python 3 (ipykernel)",
   "language": "python",
   "name": "python3"
  },
  "language_info": {
   "codemirror_mode": {
    "name": "ipython",
    "version": 3
   },
   "file_extension": ".py",
   "mimetype": "text/x-python",
   "name": "python",
   "nbconvert_exporter": "python",
   "pygments_lexer": "ipython3",
   "version": "3.9.12"
  }
 },
 "nbformat": 4,
 "nbformat_minor": 5
}
